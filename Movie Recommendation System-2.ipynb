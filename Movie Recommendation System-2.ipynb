{
 "cells": [
  {
   "cell_type": "markdown",
   "id": "5a6ad5df",
   "metadata": {},
   "source": [
    "# Problem Statement\n",
    "\n",
    "In the age of digital content overload, users struggle to find movies tailored to their tastes. The objective is to build a Movie Recommendation System that understands user preferences and delivers personalized suggestions, improving user engagement and satisfaction."
   ]
  },
  {
   "cell_type": "markdown",
   "id": "1cd2566d",
   "metadata": {},
   "source": [
    "# Goal\n",
    "\n",
    "To develop a hybrid movie recommendation engine that:\n",
    "\n",
    "- Suggests movies based on user ratings.\n",
    "- Incorporates genre similarities and user behavior.\n",
    "- Is scalable and easy to interpret.\n",
    "- Can be integrated into real-world applications like streaming platforms."
   ]
  },
  {
   "cell_type": "markdown",
   "id": "24c052a5",
   "metadata": {},
   "source": [
    "# Datasets Used\n",
    "\n",
    "1. **movies.csv:** Contains movie metadata (movieId, title, genres).\n",
    "2. **ratings.csv:** User ratings for movies on a scale from 0.5 to 5.0.\n",
    "3. **tags.csv:** Tags added by users (can be used for content-based filtering).\n",
    "4. **links.csv:** Mapping to IMDb and TMDb for future extension (like fetching posters, summaries).\n",
    "\n",
    "Together they form the famous MovieLens dataset."
   ]
  },
  {
   "cell_type": "markdown",
   "id": "f19223cc",
   "metadata": {},
   "source": [
    "## Methodology"
   ]
  },
  {
   "cell_type": "code",
   "execution_count": 2,
   "id": "c7cc0a49",
   "metadata": {},
   "outputs": [],
   "source": [
    "# 1. Import necessary libraries\n",
    "\n",
    "import pandas as pd\n",
    "import numpy as np\n",
    "from sklearn.feature_extraction.text import TfidfVectorizer\n",
    "from sklearn.metrics.pairwise import cosine_similarity"
   ]
  },
  {
   "cell_type": "markdown",
   "id": "507fa580",
   "metadata": {},
   "source": [
    "#### Explanation:\n",
    "- Loading the essential libraries for data processing and similarity computation.\n",
    "- These tools are foundational for content-based filtering using genre data."
   ]
  },
  {
   "cell_type": "code",
   "execution_count": 3,
   "id": "1740b328",
   "metadata": {},
   "outputs": [],
   "source": [
    "# 2. Load all the datasets\n",
    "movies = pd.read_csv(\"movies.csv\")\n",
    "ratings = pd.read_csv(\"ratings.csv\")\n",
    "tags = pd.read_csv(\"tags.csv\")\n",
    "links = pd.read_csv(\"links.csv\")"
   ]
  },
  {
   "cell_type": "markdown",
   "id": "a50d2ec0",
   "metadata": {},
   "source": [
    "#### Explanation\n",
    "\n",
    "Importing the MovieLens dataset into Pandas DataFrames."
   ]
  },
  {
   "cell_type": "code",
   "execution_count": 4,
   "id": "e02946ee",
   "metadata": {},
   "outputs": [],
   "source": [
    "# 3. Merge ratings with movies to create a unified base\n",
    "movie_ratings = pd.merge(ratings, movies, on=\"movieId\", how=\"left\")\n"
   ]
  },
  {
   "cell_type": "markdown",
   "id": "d008e53e",
   "metadata": {},
   "source": [
    "#### Explanation\n",
    "- This code cobines ratings and movie metadata into a single DataFrame.\n",
    "- We are using a left join, so that it ensures all ratings are preserved, even if movie metadata is missing."
   ]
  },
  {
   "cell_type": "code",
   "execution_count": 5,
   "id": "83e567d5",
   "metadata": {},
   "outputs": [],
   "source": [
    "# 4. Calculate movie popularity metrics: mean rating and number of ratings\n",
    "movie_stats = movie_ratings.groupby(\"title\").agg({\n",
    "    \"rating\": [\"mean\", \"count\"]\n",
    "}).reset_index()\n",
    "movie_stats.columns = [\"title\", \"average_rating\", \"num_ratings\"]"
   ]
  },
  {
   "cell_type": "markdown",
   "id": "50200fc2",
   "metadata": {},
   "source": [
    "#### Explanation\n",
    "\n",
    "- This code computes average rating and number of ratings per movie.\n",
    "- It provides a simple popularity baseline; movies with high ratings and many votes are likely crowd-pleasers."
   ]
  },
  {
   "cell_type": "code",
   "execution_count": 6,
   "id": "1cd612fa",
   "metadata": {},
   "outputs": [],
   "source": [
    "# 5. Filter for movies with at least 50 ratings to avoid obscure/biased ratings\n",
    "popular_movies = movie_stats[movie_stats[\"num_ratings\"] >= 50]\n"
   ]
  },
  {
   "cell_type": "markdown",
   "id": "88c8644f",
   "metadata": {},
   "source": [
    "#### Explanation\n",
    "\n",
    "- It filters movies with at least 50 ratings to avoid obscure or biased entries.\n",
    "- This threshold balances quality (reliable ratings) and quantity (sufficient data), reducing noise from sparsely rated movies."
   ]
  },
  {
   "cell_type": "code",
   "execution_count": 7,
   "id": "d0f53688",
   "metadata": {},
   "outputs": [],
   "source": [
    "# 6. Sort by highest average rating\n",
    "top_popular_movies = popular_movies.sort_values(by=\"average_rating\", ascending=False).head(10)\n"
   ]
  },
  {
   "cell_type": "markdown",
   "id": "20eb90fb",
   "metadata": {},
   "source": [
    "#### Explanation\n",
    "\n",
    "- It identifies the top 10 movies by average rating.\n",
    "- It offers a basic recommendation list (e.g., \"Shawshank Redemption\" often tops such lists), but lacks personalization."
   ]
  },
  {
   "cell_type": "code",
   "execution_count": 8,
   "id": "22b5021f",
   "metadata": {},
   "outputs": [],
   "source": [
    "# ----- Content-Based Filtering using Genres -----\n"
   ]
  },
  {
   "cell_type": "code",
   "execution_count": 9,
   "id": "59406bde",
   "metadata": {},
   "outputs": [],
   "source": [
    "# 7. Fill any missing genre values with empty string\n",
    "movies[\"genres\"] = movies[\"genres\"].fillna(\"\")"
   ]
  },
  {
   "cell_type": "markdown",
   "id": "ed6a4df0",
   "metadata": {},
   "source": [
    "#### Explanation\n",
    "\n",
    "- It replaces missing genre values with empty strings.\n",
    "- It ensures TF-IDF vectorization works seamlessly, avoiding NaN-related errors."
   ]
  },
  {
   "cell_type": "code",
   "execution_count": 10,
   "id": "4d0f2d50",
   "metadata": {},
   "outputs": [],
   "source": [
    "# 8. Use TF-IDF Vectorizer to encode genres (like NLP encoding for movie flavor)\n",
    "tfidf = TfidfVectorizer(token_pattern=r\"[^|]+\")  # Use pipe separator\n",
    "tfidf_matrix = tfidf.fit_transform(movies[\"genres\"])"
   ]
  },
  {
   "cell_type": "markdown",
   "id": "448c10ac",
   "metadata": {},
   "source": [
    "#### Explanation\n",
    "\n",
    "- Converts genres into a TF-IDF matrix, treating genres as \"words\" separated by \"|\".\n",
    "- TF-IDF weights genres by importance (e.g., rare genres like \"Film-Noir\" get higher weights), enabling similarity computation."
   ]
  },
  {
   "cell_type": "code",
   "execution_count": 11,
   "id": "ed1f46b5",
   "metadata": {},
   "outputs": [],
   "source": [
    "# 9. Compute cosine similarity between all movies based on genre TF-IDF\n",
    "cosine_sim = cosine_similarity(tfidf_matrix, tfidf_matrix)"
   ]
  },
  {
   "cell_type": "markdown",
   "id": "cac2bbc6",
   "metadata": {},
   "source": [
    "#### Explanation\n",
    "\n",
    "- It calculates pairwise cosine similarity between movies based on genres.\n",
    "- It creates a similarity matrix where higher values indicate closer genre overlap (e.g., \"Action|Adventure\" vs. \"Action|Sci-Fi\")."
   ]
  },
  {
   "cell_type": "code",
   "execution_count": 12,
   "id": "43ff5406",
   "metadata": {},
   "outputs": [],
   "source": [
    "# 10. Create a reverse index of movie titles to fetch by title\n",
    "movie_indices = pd.Series(movies.index, index=movies['title']).drop_duplicates()"
   ]
  },
  {
   "cell_type": "markdown",
   "id": "ee2614ed",
   "metadata": {},
   "source": [
    "#### Explanation\n",
    "\n",
    "- It maps movie titles to their DataFrame indices for quick lookup.\n",
    "- It simplifies retrieval of movie data by title, crucial for recommendation functions."
   ]
  },
  {
   "cell_type": "code",
   "execution_count": 13,
   "id": "78db343c",
   "metadata": {},
   "outputs": [],
   "source": [
    "# 11. Function to get similar movies based on genres\n",
    "def get_recommendations(title, cosine_sim=cosine_sim):\n",
    "    idx = movie_indices.get(title)\n",
    "    if idx is None:\n",
    "        return f\"Movie '{title}' not found in the dataset.\"\n",
    "    sim_scores = list(enumerate(cosine_sim[idx]))\n",
    "    sim_scores = sorted(sim_scores, key=lambda x: x[1], reverse=True)\n",
    "    sim_scores = sim_scores[1:11]  # Skip the first one as it is the same movie\n",
    "    movie_indices_list = [i[0] for i in sim_scores]\n",
    "    return movies.iloc[movie_indices_list][[\"title\", \"genres\"]]"
   ]
  },
  {
   "cell_type": "markdown",
   "id": "6165ea1f",
   "metadata": {},
   "source": [
    "#### Explanation\n",
    "\n",
    "- It defines a function to recommend movies similar to a given title based on genre similarity.\n",
    "- It will return the top 10 most similar movies, excluding the input movie itself. Robust error handling for missing titles.\n"
   ]
  },
  {
   "cell_type": "code",
   "execution_count": 14,
   "id": "d1e75cf2",
   "metadata": {},
   "outputs": [
    {
     "data": {
      "text/plain": [
       "{'Top_10_Popular_Movies':                                                   title  average_rating  \\\n",
       " 7593                   Shawshank Redemption, The (1994)        4.429022   \n",
       " 3499                              Godfather, The (1972)        4.289062   \n",
       " 3011                                  Fight Club (1999)        4.272936   \n",
       " 1961                              Cool Hand Luke (1967)        4.271930   \n",
       " 2531  Dr. Strangelove or: How I Learned to Stop Worr...        4.268041   \n",
       " 6999                                 Rear Window (1954)        4.261905   \n",
       " 3500                     Godfather: Part II, The (1974)        4.259690   \n",
       " 2334                               Departed, The (2006)        4.252336   \n",
       " 3564                                  Goodfellas (1990)        4.250000   \n",
       " 1593                                  Casablanca (1942)        4.240000   \n",
       " \n",
       "       num_ratings  \n",
       " 7593          317  \n",
       " 3499          192  \n",
       " 3011          218  \n",
       " 1961           57  \n",
       " 2531           97  \n",
       " 6999           84  \n",
       " 3500          129  \n",
       " 2334          107  \n",
       " 3564          126  \n",
       " 1593          100  ,\n",
       " 'Sample_Content_Based_Recs_for_Fight_Club':                                                   title  \\\n",
       " 254   Léon: The Professional (a.k.a. The Professiona...   \n",
       " 307                     Clear and Present Danger (1994)   \n",
       " 758                            Last Man Standing (1996)   \n",
       " 919           Killer, The (Die xue shuang xiong) (1989)   \n",
       " 1181                                    Face/Off (1997)   \n",
       " 1192                                    Cop Land (1997)   \n",
       " 1915                              Corruptor, The (1999)   \n",
       " 2165                             Double Jeopardy (1999)   \n",
       " 2226                                  Fight Club (1999)   \n",
       " 2443                               Patriot Games (1992)   \n",
       " \n",
       "                            genres  \n",
       " 254   Action|Crime|Drama|Thriller  \n",
       " 307   Action|Crime|Drama|Thriller  \n",
       " 758   Action|Crime|Drama|Thriller  \n",
       " 919   Action|Crime|Drama|Thriller  \n",
       " 1181  Action|Crime|Drama|Thriller  \n",
       " 1192  Action|Crime|Drama|Thriller  \n",
       " 1915  Action|Crime|Drama|Thriller  \n",
       " 2165  Action|Crime|Drama|Thriller  \n",
       " 2226  Action|Crime|Drama|Thriller  \n",
       " 2443  Action|Crime|Drama|Thriller  }"
      ]
     },
     "execution_count": 14,
     "metadata": {},
     "output_type": "execute_result"
    }
   ],
   "source": [
    "# Output everything built so far:\n",
    "{\n",
    "    \"Top_10_Popular_Movies\": top_popular_movies,\n",
    "    \"Sample_Content_Based_Recs_for_Fight_Club\": get_recommendations(\"Fight Club (1999)\")\n",
    "}"
   ]
  },
  {
   "cell_type": "markdown",
   "id": "4aab4c99",
   "metadata": {},
   "source": [
    "#### Explanation and Insights\n",
    "\n",
    "- **Purpose:** This displays top popular movies and sample recommendations for \"Fight Club (1999)\".\n",
    "\n",
    "- **Insight:**\n",
    "- Top 10: Includes classics like \"Shawshank Redemption\" (4.43 avg, 317 ratings), showing popularity-based success.\n",
    "- Fight Club Recs: All recommendations share \"Action|Crime|Drama|Thriller\", validating genre-based similarity."
   ]
  },
  {
   "cell_type": "code",
   "execution_count": 18,
   "id": "ce9400b2",
   "metadata": {},
   "outputs": [
    {
     "name": "stdout",
     "output_type": "stream",
     "text": [
      "\n",
      "🔍 Movies similar to 'Nixon (1995)':\n",
      "                                title genres\n",
      "25                     Othello (1995)  Drama\n",
      "30             Dangerous Minds (1995)  Drama\n",
      "36    Cry, the Beloved Country (1995)  Drama\n",
      "39                 Restoration (1995)  Drama\n",
      "50                     Georgia (1995)  Drama\n",
      "51       Home for the Holidays (1995)  Drama\n",
      "55          Mr. Holland's Opus (1995)  Drama\n",
      "105   Boys of St. Vincent, The (1992)  Drama\n",
      "120    Basketball Diaries, The (1995)  Drama\n",
      "121  Awfully Big Adventure, An (1995)  Drama\n"
     ]
    }
   ],
   "source": [
    "# Example Usage\n",
    "print(\"\\n🔍 Movies similar to 'Nixon (1995)':\")\n",
    "print(get_recommendations(\"Nixon (1995)\"))"
   ]
  },
  {
   "cell_type": "markdown",
   "id": "4f1c5f2d",
   "metadata": {},
   "source": [
    "#### Explanation and Insights\n",
    "\n",
    "- Purpose: Demonstrates the content-based recommender with \"Nixon (1995)\".\n",
    "- Insight: Gave us outputs of dramas from similar years (e.g., \"Othello (1995)\"), confirming the system's focus on genre (\"Drama\")."
   ]
  },
  {
   "cell_type": "code",
   "execution_count": 19,
   "id": "8bbe8dd6",
   "metadata": {},
   "outputs": [],
   "source": [
    "# 12. Importing Additional Libraries for Hybrid Model\n",
    "\n",
    "from sklearn.feature_extraction.text import TfidfVectorizer\n",
    "from sklearn.neighbors import NearestNeighbors\n",
    "from surprise import Dataset, Reader, SVD\n",
    "from surprise.model_selection import train_test_split\n",
    "from surprise import accuracy"
   ]
  },
  {
   "cell_type": "markdown",
   "id": "82889052",
   "metadata": {},
   "source": [
    "#### Explanation\n",
    "\n",
    "- Adding libraries for collaborative filtering (KNN) and matrix factorization (SVD).\n",
    "- Expanding the system’s capabilities beyond content-based filtering."
   ]
  },
  {
   "cell_type": "code",
   "execution_count": 20,
   "id": "6b370280",
   "metadata": {},
   "outputs": [],
   "source": [
    "# 13. Content-Based Recommender\n",
    "\n",
    "# Preprocess genres\n",
    "movies[\"genres\"] = movies[\"genres\"].fillna(\"\")\n",
    "\n",
    "# TF-IDF Vectorizer\n",
    "tfidf = TfidfVectorizer(token_pattern=r\"[^|]+\")\n",
    "tfidf_matrix = tfidf.fit_transform(movies[\"genres\"])\n",
    "\n",
    "# Compute cosine similarity\n",
    "cosine_sim = cosine_similarity(tfidf_matrix, tfidf_matrix)\n",
    "\n",
    "# Reverse mapping of movie titles\n",
    "movie_indices = pd.Series(movies.index, index=movies['title']).drop_duplicates()\n",
    "\n",
    "def content_based_recommend(title, cosine_sim=cosine_sim):\n",
    "    idx = movie_indices.get(title)\n",
    "    if idx is None:\n",
    "        return f\"Movie '{title}' not found.\"\n",
    "    sim_scores = list(enumerate(cosine_sim[idx]))\n",
    "    sim_scores = sorted(sim_scores, key=lambda x: x[1], reverse=True)[1:11]\n",
    "    movie_ids = [i[0] for i in sim_scores]\n",
    "    return movies.iloc[movie_ids][[\"title\", \"genres\"]]\n"
   ]
  },
  {
   "cell_type": "markdown",
   "id": "bf39d9e3",
   "metadata": {},
   "source": [
    "#### Explanation\n",
    "\n",
    "- Reimplements content-based filtering (similar to step #11, but renamed for clarity).\n",
    "- Consistent with earlier implementation, reinforcing genre-based similarity as a core feature."
   ]
  },
  {
   "cell_type": "code",
   "execution_count": 21,
   "id": "b5cfc05d",
   "metadata": {},
   "outputs": [],
   "source": [
    "\n",
    "# 14. Collaborative Filtering with KNN\n",
    "\n",
    "\n",
    "# Create pivot table\n",
    "user_movie_matrix = ratings.pivot(index='userId', columns='movieId', values='rating').fillna(0)\n",
    "\n",
    "# KNN Recommender using Nearest Neighbors\n",
    "knn = NearestNeighbors(metric='cosine', algorithm='brute')\n",
    "knn.fit(user_movie_matrix)\n",
    "\n",
    "def collaborative_recommend(user_id):\n",
    "    if user_id not in user_movie_matrix.index:\n",
    "        return \"User not found\"\n",
    "    distances, indices = knn.kneighbors([user_movie_matrix.loc[user_id]], n_neighbors=6)\n",
    "    similar_users = indices.flatten()[1:]\n",
    "    \n",
    "    # Aggregate ratings from similar users\n",
    "    similar_users_ratings = user_movie_matrix.iloc[similar_users]\n",
    "    mean_ratings = similar_users_ratings.mean(axis=0)\n",
    "    \n",
    "    # Drop movies the target user has already rated\n",
    "    watched = user_movie_matrix.loc[user_id]\n",
    "    unseen_movies = mean_ratings[watched == 0]\n",
    "    \n",
    "    recommended_movies = unseen_movies.sort_values(ascending=False).head(10)\n",
    "    return movies[movies[\"movieId\"].isin(recommended_movies.index)][[\"title\", \"genres\"]]\n"
   ]
  },
  {
   "cell_type": "markdown",
   "id": "81cd00ee",
   "metadata": {},
   "source": [
    "#### Explanation \n",
    "\n",
    "- This implements user-based collaborative filtering using KNN.\n",
    "\n",
    "- **Pivot Table:** Sparse matrix of user-movie ratings (0 for unrated).\n",
    "- **KNN:** Finds 5 similar users (excluding the target) based on rating patterns.\n",
    "- **Recommendations:** Suggests movies highly rated by similar users, excluding already-watched ones."
   ]
  },
  {
   "cell_type": "code",
   "execution_count": 22,
   "id": "bfb55e64",
   "metadata": {},
   "outputs": [
    {
     "name": "stdout",
     "output_type": "stream",
     "text": [
      "RMSE: 0.8796\n",
      "RMSE: 0.8795950377006411\n"
     ]
    }
   ],
   "source": [
    "\n",
    "# 15. Matrix Factorization with SVD\n",
    "\n",
    "\n",
    "# Prepare data for surprise\n",
    "reader = Reader(rating_scale=(0.5, 5))\n",
    "data = Dataset.load_from_df(ratings[[\"userId\", \"movieId\", \"rating\"]], reader)\n",
    "trainset, testset = train_test_split(data, test_size=0.2, random_state=42)\n",
    "\n",
    "# Train SVD model\n",
    "svd = SVD()\n",
    "svd.fit(trainset)\n",
    "\n",
    "# Evaluate performance (optional)\n",
    "predictions = svd.test(testset)\n",
    "print(\"RMSE:\", accuracy.rmse(predictions))\n",
    "\n",
    "# Function to get SVD predictions\n",
    "def svd_recommend(user_id, n_recs=10):\n",
    "    movie_ids = ratings[\"movieId\"].unique()\n",
    "    rated_movies = ratings[ratings[\"userId\"] == user_id][\"movieId\"]\n",
    "    unrated_movies = [m for m in movie_ids if m not in rated_movies.values]\n",
    "    \n",
    "    preds = [svd.predict(user_id, movie_id) for movie_id in unrated_movies]\n",
    "    preds.sort(key=lambda x: x.est, reverse=True)\n",
    "    top_movie_ids = [int(pred.iid) for pred in preds[:n_recs]]\n",
    "    \n",
    "    return movies[movies[\"movieId\"].isin(top_movie_ids)][[\"title\", \"genres\"]]\n"
   ]
  },
  {
   "cell_type": "markdown",
   "id": "4abdf4a8",
   "metadata": {},
   "source": [
    "#### Explanation & Insights\n",
    "\n",
    "- It implements matrix factorization using SVD from the Surprise library.\n",
    "\n",
    "- Insight:\n",
    "1. **Data Prep:** Formats ratings for Surprise (80% train, 20% test).\n",
    "2. **SVD:** Reduces dimensionality to predict ratings (RMSE ~0.88, indicating decent accuracy).\n",
    "3. **Recommendations:** Predicts ratings for unrated movies, returning the top 10."
   ]
  },
  {
   "cell_type": "code",
   "execution_count": 23,
   "id": "a4d001d5",
   "metadata": {},
   "outputs": [],
   "source": [
    "\n",
    "# 16. Hybrid Recommender\n",
    "\n",
    "\n",
    "def hybrid_recommend(user_id, liked_movie_title, top_n=10):\n",
    "    # Content scores\n",
    "    if liked_movie_title not in movie_indices:\n",
    "        return \"Liked movie not found.\"\n",
    "    idx = movie_indices[liked_movie_title]\n",
    "    sim_scores = list(enumerate(cosine_sim[idx]))\n",
    "    sim_scores = sorted(sim_scores, key=lambda x: x[1], reverse=True)\n",
    "    content_ids = [i[0] for i in sim_scores[1:50]]  # Take top 50 similar movies\n",
    "\n",
    "    movie_candidates = movies.iloc[content_ids].copy()\n",
    "    movie_candidates[\"movieId\"] = movie_candidates[\"movieId\"].astype(int)\n",
    "\n",
    "    # Add SVD predictions\n",
    "    movie_candidates[\"predicted_rating\"] = movie_candidates[\"movieId\"].apply(lambda x: svd.predict(user_id, x).est)\n",
    "\n",
    "    top_movies = movie_candidates.sort_values(\"predicted_rating\", ascending=False).head(top_n)\n",
    "    return top_movies[[\"title\", \"genres\", \"predicted_rating\"]]\n"
   ]
  },
  {
   "cell_type": "markdown",
   "id": "0adf294b",
   "metadata": {},
   "source": [
    "#### Explanation \n",
    "\n",
    "- It combines content-based (genres) and collaborative (SVD) filtering.\n",
    "- Starts with 50 genre-similar movies.\n",
    "- Ranks them by predicted user ratings.\n",
    "- Balances movie similarity with user preference."
   ]
  },
  {
   "cell_type": "code",
   "execution_count": 24,
   "id": "6668bebe",
   "metadata": {},
   "outputs": [
    {
     "name": "stdout",
     "output_type": "stream",
     "text": [
      "                                                  title  \\\n",
      "1706                                        Antz (1998)   \n",
      "2355                                 Toy Story 2 (1999)   \n",
      "2809     Adventures of Rocky and Bullwinkle, The (2000)   \n",
      "3000                   Emperor's New Groove, The (2000)   \n",
      "3568                              Monsters, Inc. (2001)   \n",
      "6194                                   Wild, The (2006)   \n",
      "6486                             Shrek the Third (2007)   \n",
      "6948                     Tale of Despereaux, The (2008)   \n",
      "7760  Asterix and the Vikings (Astérix et les Viking...   \n",
      "8219                                       Turbo (2013)   \n",
      "\n",
      "                                           genres  \n",
      "1706  Adventure|Animation|Children|Comedy|Fantasy  \n",
      "2355  Adventure|Animation|Children|Comedy|Fantasy  \n",
      "2809  Adventure|Animation|Children|Comedy|Fantasy  \n",
      "3000  Adventure|Animation|Children|Comedy|Fantasy  \n",
      "3568  Adventure|Animation|Children|Comedy|Fantasy  \n",
      "6194  Adventure|Animation|Children|Comedy|Fantasy  \n",
      "6486  Adventure|Animation|Children|Comedy|Fantasy  \n",
      "6948  Adventure|Animation|Children|Comedy|Fantasy  \n",
      "7760  Adventure|Animation|Children|Comedy|Fantasy  \n",
      "8219  Adventure|Animation|Children|Comedy|Fantasy  \n",
      "                                         title  \\\n",
      "31   Twelve Monkeys (a.k.a. 12 Monkeys) (1995)   \n",
      "314                        Forrest Gump (1994)   \n",
      "334                               Speed (1994)   \n",
      "378                         Cliffhanger (1993)   \n",
      "383                                Dave (1993)   \n",
      "418                       Jurassic Park (1993)   \n",
      "443                        Philadelphia (1993)   \n",
      "472                Sleepless in Seattle (1993)   \n",
      "510           Silence of the Lambs, The (1991)   \n",
      "594                             Twister (1996)   \n",
      "\n",
      "                                genres  \n",
      "31             Mystery|Sci-Fi|Thriller  \n",
      "314           Comedy|Drama|Romance|War  \n",
      "334            Action|Romance|Thriller  \n",
      "378          Action|Adventure|Thriller  \n",
      "383                     Comedy|Romance  \n",
      "418   Action|Adventure|Sci-Fi|Thriller  \n",
      "443                              Drama  \n",
      "472               Comedy|Drama|Romance  \n",
      "510              Crime|Horror|Thriller  \n",
      "594  Action|Adventure|Romance|Thriller  \n",
      "                                                  title  \\\n",
      "602   Dr. Strangelove or: How I Learned to Stop Worr...   \n",
      "899                          Princess Bride, The (1987)   \n",
      "900   Raiders of the Lost Ark (Indiana Jones and the...   \n",
      "909                               Apocalypse Now (1979)   \n",
      "949                Bridge on the River Kwai, The (1957)   \n",
      "1001                  Man Who Would Be King, The (1975)   \n",
      "2568                            Double Indemnity (1944)   \n",
      "2996                                      Snatch (2000)   \n",
      "3622  Amelie (Fabuleux destin d'Amélie Poulain, Le) ...   \n",
      "5695                                     Old Boy (2003)   \n",
      "\n",
      "                                       genres  \n",
      "602                                Comedy|War  \n",
      "899   Action|Adventure|Comedy|Fantasy|Romance  \n",
      "900                          Action|Adventure  \n",
      "909                          Action|Drama|War  \n",
      "949                       Adventure|Drama|War  \n",
      "1001                          Adventure|Drama  \n",
      "2568                    Crime|Drama|Film-Noir  \n",
      "2996                    Comedy|Crime|Thriller  \n",
      "3622                           Comedy|Romance  \n",
      "5695                         Mystery|Thriller  \n",
      "                                                  title  \\\n",
      "6710                            Dark Knight, The (2008)   \n",
      "6151                              V for Vendetta (2006)   \n",
      "5917                               Batman Begins (2005)   \n",
      "6797                                    Watchmen (2009)   \n",
      "8252                                     Gravity (2013)   \n",
      "7260  Girl Who Played with Fire, The (Flickan som le...   \n",
      "3873                             Minority Report (2002)   \n",
      "8151                                  Iron Man 3 (2013)   \n",
      "9193              Sherlock: The Abominable Bride (2016)   \n",
      "8438                            Edge of Tomorrow (2014)   \n",
      "\n",
      "                                         genres  predicted_rating  \n",
      "6710                    Action|Crime|Drama|IMAX          4.060457  \n",
      "6151                Action|Sci-Fi|Thriller|IMAX          3.993777  \n",
      "5917                          Action|Crime|IMAX          3.843407  \n",
      "6797  Action|Drama|Mystery|Sci-Fi|Thriller|IMAX          3.760653  \n",
      "8252                         Action|Sci-Fi|IMAX          3.631144  \n",
      "7260        Action|Crime|Drama|Mystery|Thriller          3.595892  \n",
      "3873       Action|Crime|Mystery|Sci-Fi|Thriller          3.583346  \n",
      "8151                Action|Sci-Fi|Thriller|IMAX          3.581818  \n",
      "9193        Action|Crime|Drama|Mystery|Thriller          3.576631  \n",
      "8438                         Action|Sci-Fi|IMAX          3.566712  \n"
     ]
    }
   ],
   "source": [
    "# Example Outputs\n",
    "\n",
    "# Content-based\n",
    "print(content_based_recommend(\"Toy Story (1995)\"))\n",
    "\n",
    "# Collaborative\n",
    "print(collaborative_recommend(user_id=5))\n",
    "\n",
    "# Matrix Factorization\n",
    "print(svd_recommend(user_id=5))\n",
    "\n",
    "# Hybrid\n",
    "print(hybrid_recommend(user_id=5, liked_movie_title=\"Inception (2010)\"))\n"
   ]
  },
  {
   "cell_type": "markdown",
   "id": "e99daf6e",
   "metadata": {},
   "source": [
    "#### Insights\n",
    "\n",
    "- It demonstrates all recommenders for user 5 and \"Inception (2010)\".\n",
    "- **Content-Based:** Recommending animated family movies like \"Toy Story 2\" for \"Toy Story\".\n",
    "- **Collaborative:** Suggesting diverse genres (e.g., \"Jurassic Park\"), reflecting similar users’ tastes.\n",
    "- **SVD:** Offering high-quality classics (e.g., \"Princess Bride\"), showing latent factor influence.\n",
    "- **Hybrid:** Combining \"Inception\"-like action/sci-fi with user-specific predictions (e.g., \"Dark Knight\", 4.06)."
   ]
  },
  {
   "cell_type": "markdown",
   "id": "20f96c2f",
   "metadata": {},
   "source": [
    "## Key Insights\n",
    "\n",
    "- **Popularity-Based:** Simple but effective for new users; lacks personalization.\n",
    "- **Content-Based:** Strong for genre lovers; limited by genre-only features.\n",
    "- **Collaborative (KNN):** Captures user behavior; struggles with sparse data.\n",
    "- **SVD:** Balances accuracy and scalability; RMSE ~0.88 is solid for predictions.\n",
    "- **Hybrid:** Best of both worlds—genre similarity plus user preference."
   ]
  },
  {
   "cell_type": "markdown",
   "id": "29baa651",
   "metadata": {},
   "source": [
    "## Conclusion\n",
    "This project successfully builds a scalable, interpretable movie recommendation system using a hybrid approach. It’s ready for integration into streaming platforms and extensible for future enhancements like tag-based filtering or real-time updates."
   ]
  },
  {
   "cell_type": "code",
   "execution_count": null,
   "id": "f6a8df0f",
   "metadata": {},
   "outputs": [],
   "source": []
  }
 ],
 "metadata": {
  "kernelspec": {
   "display_name": "Python 3 (ipykernel)",
   "language": "python",
   "name": "python3"
  },
  "language_info": {
   "codemirror_mode": {
    "name": "ipython",
    "version": 3
   },
   "file_extension": ".py",
   "mimetype": "text/x-python",
   "name": "python",
   "nbconvert_exporter": "python",
   "pygments_lexer": "ipython3",
   "version": "3.11.5"
  }
 },
 "nbformat": 4,
 "nbformat_minor": 5
}
